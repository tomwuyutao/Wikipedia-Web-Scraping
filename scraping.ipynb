{
 "cells": [
  {
   "cell_type": "markdown",
   "id": "67bab40c",
   "metadata": {},
   "source": [
    "# Preparations"
   ]
  },
  {
   "cell_type": "code",
   "execution_count": 1,
   "id": "fa906ebf",
   "metadata": {},
   "outputs": [],
   "source": [
    "import requests\n",
    "import pandas as pd \n",
    "from scrapy import Selector\n",
    "from scrapy.http import HtmlResponse\n",
    "import numpy"
   ]
  },
  {
   "cell_type": "code",
   "execution_count": 2,
   "id": "7cc47129",
   "metadata": {},
   "outputs": [],
   "source": [
    "headers = {'User-Agent': 'Webscraping practice  (tomwuyutao@gmail.com)'}"
   ]
  },
  {
   "cell_type": "markdown",
   "id": "ccc58692",
   "metadata": {},
   "source": [
    "# Getting the data"
   ]
  },
  {
   "cell_type": "markdown",
   "id": "bf418673",
   "metadata": {},
   "source": [
    "list of properties to scrape:\n",
    "\n",
    "- Name\n",
    "- Date\n",
    "- Location (longitude and latitude)\n",
    "- Belligerents"
   ]
  },
  {
   "cell_type": "markdown",
   "id": "e8f40f17",
   "metadata": {},
   "source": [
    "## Creating a function to get all data"
   ]
  },
  {
   "cell_type": "code",
   "execution_count": 3,
   "id": "5b738a64",
   "metadata": {},
   "outputs": [],
   "source": [
    "def get_data(link):\n",
    "    \n",
    "    # Preparations\n",
    "    my_url = link\n",
    "    response = requests.get(my_url, headers=headers)\n",
    "    sel = Selector(text=response.text)\n",
    "    name = sel.css('h1 ::text').getall()[0]\n",
    "\n",
    "    if \"Battle\" not in name:\n",
    "        error_list = []\n",
    "        return error_list\n",
    "    \n",
    "    # Date\n",
    "    sel = sel.css('tbody')\n",
    "    \n",
    "    date = sel.xpath('//tr[1]/td/text()').get()\n",
    "\n",
    "    # Latitude and longitude\n",
    "    try:\n",
    "        latitude = sel.css('span.latitude ::text').getall()[0]\n",
    "        longitude = sel.css('span.longitude ::text').getall()[0]\n",
    "    except IndexError:\n",
    "        latitude = \"NaN\"\n",
    "        longitude = 'NaN'\n",
    "    \n",
    "    # Belligerents\n",
    "    # Note: The Belligerents are formatted differently on many wikipedia pages. \n",
    "    # Some are bolded, some are italic, some are in a link, some are behind a flag...\n",
    "    # That's why I created so many ways to scrape the belligerents. The result is quite accurate.\n",
    "    \n",
    "    belligerent_1 = sel.xpath('//tr[6]/td[1]/p/b/a/text()').get()\n",
    "    if belligerent_1 == None:\n",
    "        belligerent_1 = sel.xpath('//tr[6]/td[1]/div/ul/li[1]/b/a/text()').get()\n",
    "    if belligerent_1 == None:\n",
    "        belligerent_1 = sel.xpath('//tr[6]/td[1]/a/text()').get()\n",
    "    if belligerent_1 == None:\n",
    "        belligerent_1 = sel.xpath('//tr[6]/td[1]/span/a/text()').get()\n",
    "    if belligerent_1 == None:\n",
    "        belligerent_1 = sel.xpath('//tr[6]/td[1]/div/ul/li[1]/a/text()').get()\n",
    "    if belligerent_1 == None:\n",
    "        belligerent_1 = sel.xpath('//tr[6]/td[1]/a/text()').get()\n",
    "    if belligerent_1 == None:\n",
    "        belligerent_1 = sel.xpath('//tr[6]/td[1]/div/ul/li[1]/span/a/text()').get()\n",
    "    if belligerent_1 == None:\n",
    "        belligerent_1 = sel.xpath('//tr[6]/td[1]/a/text()').get()\n",
    "    if belligerent_1 == None:\n",
    "        belligerent_1 = sel.xpath('//tr[6]/td[1]/span/a/text()').get()\n",
    "    if belligerent_1 == None:\n",
    "        belligerent_1 = sel.xpath('//tr[5]/td[1]/a/text()').get()\n",
    "    if belligerent_1 == None:\n",
    "        belligerent_1 = sel.xpath('//tr[6]/td[1]/p/span/a/text()').get()\n",
    "    if belligerent_1 == None:\n",
    "        belligerent_1 = sel.xpath('//tr[6]/td[1]/a/text()').get()\n",
    "    if belligerent_1 == None:\n",
    "        belligerent_1 = sel.xpath('//tr[6]/td[1]/div/div/div/span/a/text()').get()\n",
    "    if belligerent_1 == None:\n",
    "        belligerent_1 = sel.xpath('//tr[6]/td[1]/div/ul/li[1]/b/span/a/text()').get()\n",
    "    if belligerent_1 == None:\n",
    "        belligerent_1 = sel.xpath('//tr[6]/td[1]/div/ul/li[1]/a/text()').get()\n",
    "    if belligerent_1 == None:\n",
    "        belligerent_1 = sel.xpath('//tr[6]/td[1]/a/text()').get()\n",
    "    if belligerent_1 == None:\n",
    "        belligerent_1 = sel.xpath('//tr[6]/td[1]/div/ul/li[1]/span/a/text()').get()\n",
    "    if belligerent_1 == None:\n",
    "        belligerent_1 = sel.xpath('//tr[6]/td[1]/p/span/a/text()').get()\n",
    "    if belligerent_1 == None:\n",
    "        belligerent_1 = sel.xpath('//tr[6]/td[1]/div/ul/li[1]/b/span/a/text()').get()\n",
    "    if belligerent_1 == None:\n",
    "        belligerent_1 = sel.xpath('//tr[6]/td[1]/a/text()').get()\n",
    "    if belligerent_1 == None:\n",
    "        belligerent_1 = sel.xpath('//tr[6]/td[1]/div/ul/li[1]/a/text()').get()\n",
    "    if belligerent_1 == None:\n",
    "        belligerent_1 = sel.xpath('//tr[6]/td[1]/div/ul/li[1]/b/a/text()').get()\n",
    "    \n",
    "    belligerent_2 = sel.xpath('//tr[6]/td[2]/p/b/a/text()').get()\n",
    "    if belligerent_2 == None:\n",
    "        belligerent_2 = sel.xpath('//tr[6]/td[2]/p/a/text()').get()\n",
    "    if belligerent_2 == None:\n",
    "        belligerent_2 = sel.xpath('//tr[6]/td[2]/div/ul/li[1]/span/a/text()').get()\n",
    "    if belligerent_2 == None:\n",
    "        belligerent_2 = sel.xpath('//tr[6]/td[2]/a/text()').get()\n",
    "    if belligerent_2 == None:\n",
    "        belligerent_2 = sel.xpath('//tr[5]/td[2]/a/text()').get()\n",
    "    if belligerent_2 == None:\n",
    "        belligerent_2 = sel.xpath('//tr[6]/td[2]/div/span/a/text()').get()\n",
    "    if belligerent_2 == None:\n",
    "        belligerent_2 = sel.xpath('//tr[6]/td[2]/p/b/a/text()').get()\n",
    "    if belligerent_2 == None:\n",
    "        belligerent_2 = sel.xpath('//tr[6]/td[2]/p/span/a/text()').get()\n",
    "    if belligerent_2 == None:\n",
    "        belligerent_2 = sel.xpath('//tr[6]/td[2]/p/a[1]/text()').get()\n",
    "    if belligerent_2 == None:\n",
    "        belligerent_2 = sel.xpath('//tr[6]/td[2]/span/a/text()').get()\n",
    "    if belligerent_2 == None:\n",
    "        belligerent_2 = sel.xpath('//tr[6]/td[2]/a/text()').get()\n",
    "    if belligerent_2 == None:\n",
    "        belligerent_2 = sel.xpath('//tr[6]/td[2]/div/ul/li[1]/a/text()').get()\n",
    "    if belligerent_2 == None:\n",
    "        belligerent_2 = sel.xpath('//tr[6]/td[2]/p/a[1]').get()\n",
    "    if belligerent_2 == None:\n",
    "        belligerent_2 = sel.xpath('//tr[6]/td[2]/b/a/text()').get()\n",
    "    if belligerent_2 == None:\n",
    "        belligerent_2 = sel.xpath('//tbody/tr[6]/td[2]/b/span/a/text()').get()\n",
    "    if belligerent_2 == None:\n",
    "        belligerent_2 = sel.xpath('//tr[6]/td[2]/div/ul/li[1]/b/span/a/text()').get()\n",
    "\n",
    "    # Summing the data up\n",
    "    data_for_one_battle = [name, date, latitude, longitude, belligerent_1, belligerent_2]\n",
    "    \n",
    "    return data_for_one_battle"
   ]
  },
  {
   "cell_type": "markdown",
   "id": "0e9a8637",
   "metadata": {},
   "source": [
    "## Scraping data from one Wikipedia search page (20 items)"
   ]
  },
  {
   "cell_type": "markdown",
   "id": "880a8c83",
   "metadata": {},
   "source": [
    "I used advanced search to search for the exact phrase \"Battle of\". The resulted link is: https://en.wikipedia.org/w/index.php?search=Battle+of+intitle%3A%22battle+of%22&title=Special%3ASearch&profile=advanced&fulltext=1&advancedSearch-current=%7B%22fields%22%3A%7B%22phrase%22%3A%22Battle+of%22%2C%22intitle%22%3A%22battle+of%22%7D%7D&ns0=1"
   ]
  },
  {
   "cell_type": "code",
   "execution_count": 4,
   "id": "d2089fdd",
   "metadata": {},
   "outputs": [],
   "source": [
    "my_url = 'https://en.wikipedia.org/w/index.php?search=Battle+of+intitle%3A%22battle+of%22&title=Special%3ASearch&profile=advanced&fulltext=1&advancedSearch-current=%7B%22fields%22%3A%7B%22phrase%22%3A%22Battle+of%22%2C%22intitle%22%3A%22battle+of%22%7D%7D&ns0=1'\n",
    "response = requests.get(my_url, headers=headers)\n",
    "sel = Selector(text=response.text)"
   ]
  },
  {
   "cell_type": "markdown",
   "id": "d438c4fc",
   "metadata": {},
   "source": [
    "Scraping the link from the search page:"
   ]
  },
  {
   "cell_type": "code",
   "execution_count": 5,
   "id": "1aca9a7d",
   "metadata": {
    "scrolled": true
   },
   "outputs": [],
   "source": [
    "links_to_battles = sel.xpath('//td[2]/div[1]/a/@href').getall()"
   ]
  },
  {
   "cell_type": "markdown",
   "id": "fda6f05e",
   "metadata": {},
   "source": [
    "Correcting the links"
   ]
  },
  {
   "cell_type": "code",
   "execution_count": 6,
   "id": "18b59bc8",
   "metadata": {
    "scrolled": false
   },
   "outputs": [],
   "source": [
    "def clean_links(list_of_links):\n",
    "    corrected_links = ['https://en.wikipedia.org' + x for x in list_of_links]\n",
    "    return corrected_links"
   ]
  },
  {
   "cell_type": "code",
   "execution_count": 7,
   "id": "ba6b07f9",
   "metadata": {},
   "outputs": [],
   "source": [
    "corrected_links = clean_links(links_to_battles)"
   ]
  },
  {
   "cell_type": "markdown",
   "id": "20de6bb4",
   "metadata": {},
   "source": [
    "## Trying to scrape while paginating"
   ]
  },
  {
   "cell_type": "code",
   "execution_count": 8,
   "id": "cdd45d74",
   "metadata": {},
   "outputs": [],
   "source": [
    "def try_to_get_data(list_1, list_2):\n",
    "    for item in list_1:\n",
    "\n",
    "        # Sometimes the webpage formatting is wrong, and using the get_data function will result in IndexError.\n",
    "        # That's why I used the try, result function.\n",
    "        try:\n",
    "            result = get_data(item)\n",
    "            x = []\n",
    "            if result != x:\n",
    "                list_2.append(result)\n",
    "        except IndexError:\n",
    "            continue\n",
    "        \n",
    "        return(list_2)"
   ]
  },
  {
   "cell_type": "markdown",
   "id": "797d7362",
   "metadata": {},
   "source": [
    "Creating a new paginating function and getting the get_data function into the paginating function:"
   ]
  },
  {
   "cell_type": "code",
   "execution_count": 9,
   "id": "a5fbd22d",
   "metadata": {
    "scrolled": true
   },
   "outputs": [],
   "source": [
    "list_of_battles = []\n",
    "i = 0 # Just a counter\n",
    "current_link = 'https://en.wikipedia.org/w/index.php?search=Battle+of+intitle%3A%22battle+of%22&title=Special%3ASearch&profile=advanced&fulltext=1&advancedSearch-current=%7B%22fields%22%3A%7B%22phrase%22%3A%22Battle+of%22%2C%22intitle%22%3A%22battle+of%22%7D%7D&ns0=1'\n",
    "error_link = []\n",
    "\n",
    "# Change the page number here. Change the number in the range to adjust the number of pages scraped\n",
    "for i in range(100): # There are 12590 results, and 20 results per page. Thats 630 pages.\n",
    "\n",
    "    # Prepations\n",
    "    my_url = current_link\n",
    "    response = requests.get(my_url, headers=headers)\n",
    "    sel = Selector(text=response.text)\n",
    "    \n",
    "    # Pagination\n",
    "    next_link = sel.xpath('//a/@href').getall()[-17]\n",
    "    next_link = 'https://en.wikipedia.org' + next_link\n",
    "    ,\n",
    "    # Getting links\n",
    "    links_to_battles = sel.xpath('//td[2]/div[1]/a/@href').getall()\n",
    "    \n",
    "    # Correcting the links\n",
    "    corrected_links = []\n",
    "    for item in links_to_battles:\n",
    "        item = 'https://en.wikipedia.org' + item\n",
    "        corrected_links.append(item)\n",
    "    \n",
    "    # Getting data from each link\n",
    "    for item in corrected_links:\n",
    "        try:\n",
    "            result = get_data(item)\n",
    "            x = []\n",
    "            if result != x:\n",
    "                list_of_battles.append(result)\n",
    "        except IndexError:\n",
    "            error_link.append(item) # I append all faulty links into the error_link list\n",
    "        \n",
    "    current_link = next_link\n",
    "    i += 1"
   ]
  },
  {
   "cell_type": "markdown",
   "id": "1702e19a",
   "metadata": {},
   "source": [
    "### Trying to clean up the dates"
   ]
  },
  {
   "cell_type": "markdown",
   "id": "2015d39d",
   "metadata": {},
   "source": [
    "My strategy is: \n",
    "- Strategy 1: if CE or BC is in the text, then extract the digits before CE and BC\n",
    "- Strategy 2: if neither CE nor BC is in the text, extract the last for digits"
   ]
  },
  {
   "cell_type": "code",
   "execution_count": 10,
   "id": "f8aab760",
   "metadata": {
    "scrolled": true
   },
   "outputs": [],
   "source": [
    "list_of_dates = []\n",
    "\n",
    "for item in list_of_battles:\n",
    "    date = item[1]\n",
    "    \n",
    "    # Sometimes the date of the battle is unknown. \n",
    "    # If I try to split a 'None' data, I will get AttributeError. So I use try, except.\n",
    "    try:\n",
    "        splited_dates = date.split() \n",
    "    except AttributeError:\n",
    "        continue #continue to the next item\n",
    "\n",
    "\n",
    "    # Strategy 1\n",
    "    failure_to_find_CE_or_BC = True\n",
    "    length = len(splited_dates)\n",
    "    i = 0\n",
    "    for i in range (length):\n",
    "        x = splited_dates[i]\n",
    "        if x == 'CE':\n",
    "            corrected_date = splited_dates[i-1] # The date is the thing before 'CE'\n",
    "            try:\n",
    "                corrected_date = int(corrected_date)\n",
    "            except ValueError:\n",
    "                break\n",
    "                \n",
    "            failure_to_find_CE_or_BC = False\n",
    "\n",
    "        if x == 'BC':\n",
    "            corrected_date = splited_dates[i-1] # The date is the thing before 'BC'\n",
    "            try:\n",
    "                corrected_date = int(corrected_date)\n",
    "            except ValueError:\n",
    "                break\n",
    "            corrected_date = corrected_date * -1 # BC means -1\n",
    "    \n",
    "            failure_to_find_CE_or_BC = False\n",
    "\n",
    "        i += 1\n",
    "\n",
    "    i = 0\n",
    "    if failure_to_find_CE_or_BC == True: # If cannot find CE or BC, then use strategy 2\n",
    "        \n",
    "    # Strategy 2\n",
    "        for i in range (length):\n",
    "            try:  \n",
    "                k = i + 1\n",
    "                k = -1 * k # Counting backwatrds to f find the first integer.\n",
    "                corrected_date = int(splited_dates[k])\n",
    "                break # If I find the integer, I just exit the try, except function.\n",
    "            except ValueError: # If the item is not a integer, then try the next one.\n",
    "                i += 1\n",
    "    \n",
    "    list_of_dates.append(corrected_date)\n",
    "    \n",
    "    # Check whether the corrected date is a integer. If not, then set it to None.\n",
    "    try:\n",
    "        corrected_date = int(corrected_date)\n",
    "    except ValueError: # ValueError is when I try to convert a 'None' into a int\n",
    "        corrected_date = None\n",
    "    except TypeError: # TypeError is when I try to convert some words into a int\n",
    "        corrected_date = None\n",
    "\n",
    "    item[1] = corrected_date # Replacing the old date with the new one."
   ]
  },
  {
   "cell_type": "markdown",
   "id": "01e3574e",
   "metadata": {},
   "source": [
    "Removing duplicates from the list_of_battles"
   ]
  },
  {
   "cell_type": "code",
   "execution_count": 11,
   "id": "b80dc369",
   "metadata": {},
   "outputs": [],
   "source": [
    "updated_list = []\n",
    "for item in list_of_battles:\n",
    "    if item not in updated_list:\n",
    "        updated_list.append(item) \n",
    "        # I have tried to use list comprehension here, but it seems that it can't work. \n",
    "        # Maybe it is because the updated_list is constantly changing."
   ]
  },
  {
   "cell_type": "markdown",
   "id": "a6592840",
   "metadata": {},
   "source": [
    "Checking the amount of results: (there are plenty!)"
   ]
  },
  {
   "cell_type": "code",
   "execution_count": 12,
   "id": "a4e3e5a6",
   "metadata": {
    "scrolled": true
   },
   "outputs": [
    {
     "name": "stdout",
     "output_type": "stream",
     "text": [
      "1128\n"
     ]
    }
   ],
   "source": [
    "print(len(updated_list))"
   ]
  },
  {
   "cell_type": "markdown",
   "id": "e70a7cea",
   "metadata": {},
   "source": [
    "Saving the data to battle.csv in a *Data* folder"
   ]
  },
  {
   "cell_type": "code",
   "execution_count": 13,
   "id": "0754b375",
   "metadata": {
    "scrolled": true
   },
   "outputs": [],
   "source": [
    "!mkdir Data"
   ]
  },
  {
   "cell_type": "code",
   "execution_count": 14,
   "id": "10cb14ad",
   "metadata": {
    "scrolled": false
   },
   "outputs": [
    {
     "name": "stdout",
     "output_type": "stream",
     "text": [
      "data saved\n"
     ]
    }
   ],
   "source": [
    "df = pd.DataFrame(updated_list)\n",
    "df.to_csv('Data/battle.csv', index=False, header = None)\n",
    "print('data saved')"
   ]
  }
 ],
 "metadata": {
  "kernelspec": {
   "display_name": "Python 3 (ipykernel)",
   "language": "python",
   "name": "python3"
  },
  "language_info": {
   "codemirror_mode": {
    "name": "ipython",
    "version": 3
   },
   "file_extension": ".py",
   "mimetype": "text/x-python",
   "name": "python",
   "nbconvert_exporter": "python",
   "pygments_lexer": "ipython3",
   "version": "3.11.4"
  }
 },
 "nbformat": 4,
 "nbformat_minor": 5
}
